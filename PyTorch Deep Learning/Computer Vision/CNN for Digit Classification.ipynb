{
 "cells": [
  {
   "cell_type": "markdown",
   "metadata": {},
   "source": [
    "# Computer Vision: CNN for Digit Recognition"
   ]
  },
  {
   "cell_type": "code",
   "execution_count": 1,
   "metadata": {},
   "outputs": [],
   "source": [
    "import torch\n",
    "import torch.nn as nn\n",
    "import torch.cuda as cuda\n",
    "import matplotlib.pyplot as plt\n",
    "\n",
    "from torch.autograd import Variable\n",
    "\n",
    "from torchvision import datasets\n",
    "from torchvision import transforms\n",
    "\n",
    "import torch.nn.functional as F"
   ]
  },
  {
   "cell_type": "markdown",
   "metadata": {},
   "source": [
    "## Create DataLoaders"
   ]
  },
  {
   "cell_type": "code",
   "execution_count": 2,
   "metadata": {},
   "outputs": [],
   "source": [
    "#mean and std dev of all pixels in MNIST dataset\n",
    "mean_gray = 0.1307\n",
    "stddev_gray = 0.3081\n",
    "\n",
    "transform = transforms.Compose([transforms.ToTensor(),\n",
    "                              transforms.Normalize((mean_gray,), (stddev_gray,))])\n",
    "\n",
    "mnist_train = datasets.MNIST('./data', train=True, download=True, transform=transform)\n",
    "mnist_test = datasets.MNIST('./data', train=False, download=True, transform=transform)"
   ]
  },
  {
   "cell_type": "code",
   "execution_count": 3,
   "metadata": {},
   "outputs": [],
   "source": [
    "img = mnist_train[12][0].numpy() * stddev_gray + mean_gray"
   ]
  },
  {
   "cell_type": "code",
   "execution_count": 4,
   "metadata": {},
   "outputs": [
    {
     "data": {
      "image/png": "[encoded data removed]",
      "text/plain": [
       "<Figure size 432x288 with 1 Axes>"
      ]
     },
     "metadata": {
      "needs_background": "light"
     },
     "output_type": "display_data"
    }
   ],
   "source": [
    "plt.imshow(img.reshape(28,28), cmap='gray');"
   ]
  },
  {
   "cell_type": "code",
   "execution_count": 5,
   "metadata": {},
   "outputs": [
    {
     "data": {
      "text/plain": [
       "3"
      ]
     },
     "execution_count": 5,
     "metadata": {},
     "output_type": "execute_result"
    }
   ],
   "source": [
    "label = mnist_train[12][1]\n",
    "label"
   ]
  },
  {
   "cell_type": "code",
   "execution_count": 6,
   "metadata": {},
   "outputs": [],
   "source": [
    "batch_size=1024"
   ]
  },
  {
   "cell_type": "code",
   "execution_count": 7,
   "metadata": {},
   "outputs": [],
   "source": [
    "mnist_train_loader = torch.utils.data.DataLoader(mnist_train, batch_size=batch_size, shuffle=True, num_workers=1)\n",
    "mnist_test_loader = torch.utils.data.DataLoader(mnist_test, batch_size=batch_size, shuffle=True, num_workers=1)"
   ]
  },
  {
   "cell_type": "markdown",
   "metadata": {},
   "source": [
    "## Create Model"
   ]
  },
  {
   "cell_type": "code",
   "execution_count": 8,
   "metadata": {},
   "outputs": [],
   "source": [
    "class MNISTNet(nn.Module):\n",
    "    def __init__(self):\n",
    "        super().__init__()\n",
    "        \n",
    "        #Convolution Layer 1\n",
    "        #input = 28 x 28 x 1\n",
    "        #output = 24 x 24 x 20\n",
    "        self.conv1 = nn.Conv2d(1, 20, kernel_size=5)\n",
    "        self.relu1 = nn.ReLU()\n",
    "        \n",
    "        #Convolution Layer 2\n",
    "        #input = 24 x 24 x 20\n",
    "        #output = 20 x 20 x 30\n",
    "        self.conv2 = nn.Conv2d(20,30,kernel_size=5)\n",
    "        self.conv2_drop = nn.Dropout2d(p=0.5)\n",
    "        \n",
    "        #Pooling\n",
    "        #output = 10 x 10 x 30\n",
    "        self.maxpool2 = nn.MaxPool2d(2)\n",
    "        self.relu2 = nn.ReLU()\n",
    "        \n",
    "        #Connected Layers\n",
    "        self.fc1 = nn.Linear(3000,500)\n",
    "        self.fc2 = nn.Linear(500,10)\n",
    "        \n",
    "    def forward(self, x):\n",
    "        \n",
    "        #Convolution Layer 1\n",
    "        x = self.conv1(x)\n",
    "        x = self.relu1(x)\n",
    "        \n",
    "        #Convolution Layer 2\n",
    "        x = self.conv2(x)\n",
    "        x = self.conv2_drop(x)\n",
    "        x = self.maxpool2(x)\n",
    "        x = self.relu2(x)\n",
    "        \n",
    "        #Switch from activation maps to vectors\n",
    "        x = x.view(-1, 3000)\n",
    "        \n",
    "        #Fully Connected Layer 1\n",
    "        x = self.fc1(x)\n",
    "        x = F.relu(x)\n",
    "        x = F.dropout(x, training=True)\n",
    "        \n",
    "        #Fully Connected Layer 2\n",
    "        x = self.fc2(x)\n",
    "        \n",
    "        return x\n",
    "        \n",
    "        "
   ]
  },
  {
   "cell_type": "markdown",
   "metadata": {},
   "source": [
    "## Create Objects"
   ]
  },
  {
   "cell_type": "code",
   "execution_count": 9,
   "metadata": {},
   "outputs": [],
   "source": [
    "#Model\n",
    "net = MNISTNet()\n",
    "\n",
    "if cuda.is_available():\n",
    "    net = net.cuda()\n",
    "\n",
    "#Loss Function\n",
    "criterion = nn.CrossEntropyLoss()\n",
    "\n",
    "if cuda.is_available():\n",
    "    criterion = criterion.cuda()\n",
    "\n",
    "#Optimizer\n",
    "learning_rate=0.01\n",
    "optimizer = torch.optim.SGD(net.parameters(), lr = learning_rate, momentum = 0.9)"
   ]
  },
  {
   "cell_type": "markdown",
   "metadata": {},
   "source": [
    "## Training"
   ]
  },
  {
   "cell_type": "code",
   "execution_count": 10,
   "metadata": {},
   "outputs": [
    {
     "name": "stdout",
     "output_type": "stream",
     "text": [
      "Epoch 1/100, Training Loss: 1.2249, Training Accuracy: 60.7900, Test Loss: 0.3489, Test Accuracy: 89.6400\n",
      "Epoch 2/100, Training Loss: 0.3349, Training Accuracy: 90.1767, Test Loss: 0.2019, Test Accuracy: 93.9600\n",
      "Epoch 3/100, Training Loss: 0.2310, Training Accuracy: 93.1917, Test Loss: 0.1493, Test Accuracy: 95.4400\n",
      "Epoch 4/100, Training Loss: 0.1796, Training Accuracy: 94.7450, Test Loss: 0.1167, Test Accuracy: 96.3600\n",
      "Epoch 5/100, Training Loss: 0.1502, Training Accuracy: 95.5783, Test Loss: 0.0953, Test Accuracy: 97.1300\n",
      "Epoch 6/100, Training Loss: 0.1310, Training Accuracy: 96.1300, Test Loss: 0.0869, Test Accuracy: 97.3200\n",
      "Epoch 7/100, Training Loss: 0.1171, Training Accuracy: 96.5083, Test Loss: 0.0765, Test Accuracy: 97.5400\n",
      "Epoch 8/100, Training Loss: 0.1061, Training Accuracy: 96.8183, Test Loss: 0.0711, Test Accuracy: 97.8200\n",
      "Epoch 9/100, Training Loss: 0.0995, Training Accuracy: 97.0583, Test Loss: 0.0671, Test Accuracy: 97.8900\n",
      "Epoch 10/100, Training Loss: 0.0921, Training Accuracy: 97.2050, Test Loss: 0.0610, Test Accuracy: 98.1100\n",
      "Epoch 11/100, Training Loss: 0.0858, Training Accuracy: 97.4600, Test Loss: 0.0555, Test Accuracy: 98.1900\n",
      "Epoch 12/100, Training Loss: 0.0815, Training Accuracy: 97.5267, Test Loss: 0.0569, Test Accuracy: 98.1700\n",
      "Epoch 13/100, Training Loss: 0.0771, Training Accuracy: 97.7450, Test Loss: 0.0523, Test Accuracy: 98.3200\n",
      "Epoch 14/100, Training Loss: 0.0737, Training Accuracy: 97.7750, Test Loss: 0.0518, Test Accuracy: 98.3100\n",
      "Epoch 15/100, Training Loss: 0.0713, Training Accuracy: 97.8517, Test Loss: 0.0494, Test Accuracy: 98.4500\n",
      "Epoch 16/100, Training Loss: 0.0676, Training Accuracy: 97.9767, Test Loss: 0.0492, Test Accuracy: 98.5000\n",
      "Epoch 17/100, Training Loss: 0.0660, Training Accuracy: 98.0100, Test Loss: 0.0441, Test Accuracy: 98.5500\n",
      "Epoch 18/100, Training Loss: 0.0621, Training Accuracy: 98.0717, Test Loss: 0.0482, Test Accuracy: 98.4800\n",
      "Epoch 19/100, Training Loss: 0.0585, Training Accuracy: 98.1850, Test Loss: 0.0438, Test Accuracy: 98.6700\n",
      "Epoch 20/100, Training Loss: 0.0583, Training Accuracy: 98.2650, Test Loss: 0.0419, Test Accuracy: 98.6700\n",
      "Epoch 21/100, Training Loss: 0.0575, Training Accuracy: 98.2483, Test Loss: 0.0409, Test Accuracy: 98.6900\n",
      "Epoch 22/100, Training Loss: 0.0539, Training Accuracy: 98.3783, Test Loss: 0.0421, Test Accuracy: 98.7600\n",
      "Epoch 23/100, Training Loss: 0.0525, Training Accuracy: 98.3417, Test Loss: 0.0397, Test Accuracy: 98.7900\n",
      "Epoch 24/100, Training Loss: 0.0505, Training Accuracy: 98.4900, Test Loss: 0.0393, Test Accuracy: 98.6100\n",
      "Epoch 25/100, Training Loss: 0.0496, Training Accuracy: 98.4933, Test Loss: 0.0401, Test Accuracy: 98.8100\n",
      "Epoch 26/100, Training Loss: 0.0482, Training Accuracy: 98.4983, Test Loss: 0.0414, Test Accuracy: 98.6500\n",
      "Epoch 27/100, Training Loss: 0.0462, Training Accuracy: 98.5833, Test Loss: 0.0371, Test Accuracy: 98.7000\n",
      "Epoch 28/100, Training Loss: 0.0457, Training Accuracy: 98.5833, Test Loss: 0.0371, Test Accuracy: 98.8900\n",
      "Epoch 29/100, Training Loss: 0.0444, Training Accuracy: 98.5733, Test Loss: 0.0372, Test Accuracy: 98.8600\n",
      "Epoch 30/100, Training Loss: 0.0412, Training Accuracy: 98.6817, Test Loss: 0.0384, Test Accuracy: 98.7100\n",
      "Epoch 31/100, Training Loss: 0.0435, Training Accuracy: 98.7083, Test Loss: 0.0353, Test Accuracy: 98.9700\n",
      "Epoch 32/100, Training Loss: 0.0424, Training Accuracy: 98.7117, Test Loss: 0.0358, Test Accuracy: 98.8500\n",
      "Epoch 33/100, Training Loss: 0.0410, Training Accuracy: 98.7217, Test Loss: 0.0360, Test Accuracy: 98.8800\n",
      "Epoch 34/100, Training Loss: 0.0390, Training Accuracy: 98.7650, Test Loss: 0.0362, Test Accuracy: 98.8800\n",
      "Epoch 35/100, Training Loss: 0.0391, Training Accuracy: 98.8017, Test Loss: 0.0362, Test Accuracy: 98.8800\n",
      "Epoch 36/100, Training Loss: 0.0368, Training Accuracy: 98.8400, Test Loss: 0.0352, Test Accuracy: 98.9200\n",
      "Epoch 37/100, Training Loss: 0.0375, Training Accuracy: 98.8350, Test Loss: 0.0366, Test Accuracy: 98.9100\n",
      "Epoch 38/100, Training Loss: 0.0366, Training Accuracy: 98.9050, Test Loss: 0.0333, Test Accuracy: 98.9100\n",
      "Epoch 39/100, Training Loss: 0.0359, Training Accuracy: 98.8800, Test Loss: 0.0377, Test Accuracy: 98.9000\n",
      "Epoch 40/100, Training Loss: 0.0356, Training Accuracy: 98.8517, Test Loss: 0.0338, Test Accuracy: 98.9700\n",
      "Epoch 41/100, Training Loss: 0.0340, Training Accuracy: 98.9117, Test Loss: 0.0327, Test Accuracy: 98.9700\n",
      "Epoch 42/100, Training Loss: 0.0340, Training Accuracy: 98.9183, Test Loss: 0.0346, Test Accuracy: 98.9200\n",
      "Epoch 43/100, Training Loss: 0.0327, Training Accuracy: 98.9983, Test Loss: 0.0330, Test Accuracy: 99.1400\n",
      "Epoch 44/100, Training Loss: 0.0339, Training Accuracy: 98.9683, Test Loss: 0.0342, Test Accuracy: 98.8700\n",
      "Epoch 45/100, Training Loss: 0.0316, Training Accuracy: 99.0167, Test Loss: 0.0324, Test Accuracy: 99.0700\n",
      "Epoch 46/100, Training Loss: 0.0303, Training Accuracy: 99.0367, Test Loss: 0.0334, Test Accuracy: 98.9100\n",
      "Epoch 47/100, Training Loss: 0.0304, Training Accuracy: 99.0433, Test Loss: 0.0380, Test Accuracy: 98.9100\n",
      "Epoch 48/100, Training Loss: 0.0313, Training Accuracy: 98.9667, Test Loss: 0.0334, Test Accuracy: 99.0300\n",
      "Epoch 49/100, Training Loss: 0.0299, Training Accuracy: 99.0800, Test Loss: 0.0335, Test Accuracy: 98.9300\n",
      "Epoch 50/100, Training Loss: 0.0300, Training Accuracy: 99.0517, Test Loss: 0.0328, Test Accuracy: 99.0300\n",
      "Epoch 51/100, Training Loss: 0.0278, Training Accuracy: 99.1717, Test Loss: 0.0323, Test Accuracy: 98.9500\n",
      "Epoch 52/100, Training Loss: 0.0279, Training Accuracy: 99.1317, Test Loss: 0.0337, Test Accuracy: 99.1400\n",
      "Epoch 53/100, Training Loss: 0.0275, Training Accuracy: 99.1367, Test Loss: 0.0366, Test Accuracy: 98.8600\n",
      "Epoch 54/100, Training Loss: 0.0274, Training Accuracy: 99.1450, Test Loss: 0.0325, Test Accuracy: 98.9700\n",
      "Epoch 55/100, Training Loss: 0.0270, Training Accuracy: 99.1283, Test Loss: 0.0309, Test Accuracy: 99.0500\n",
      "Epoch 56/100, Training Loss: 0.0267, Training Accuracy: 99.1733, Test Loss: 0.0294, Test Accuracy: 99.0300\n",
      "Epoch 57/100, Training Loss: 0.0257, Training Accuracy: 99.1917, Test Loss: 0.0319, Test Accuracy: 98.9700\n",
      "Epoch 58/100, Training Loss: 0.0251, Training Accuracy: 99.1950, Test Loss: 0.0293, Test Accuracy: 99.0800\n",
      "Epoch 59/100, Training Loss: 0.0257, Training Accuracy: 99.1667, Test Loss: 0.0294, Test Accuracy: 99.0900\n",
      "Epoch 60/100, Training Loss: 0.0258, Training Accuracy: 99.1467, Test Loss: 0.0304, Test Accuracy: 99.0800\n",
      "Epoch 61/100, Training Loss: 0.0253, Training Accuracy: 99.1750, Test Loss: 0.0316, Test Accuracy: 99.0800\n",
      "Epoch 62/100, Training Loss: 0.0244, Training Accuracy: 99.1883, Test Loss: 0.0330, Test Accuracy: 98.9700\n",
      "Epoch 63/100, Training Loss: 0.0234, Training Accuracy: 99.2817, Test Loss: 0.0330, Test Accuracy: 99.0700\n",
      "Epoch 64/100, Training Loss: 0.0237, Training Accuracy: 99.2250, Test Loss: 0.0359, Test Accuracy: 98.9000\n",
      "Epoch 65/100, Training Loss: 0.0233, Training Accuracy: 99.2467, Test Loss: 0.0309, Test Accuracy: 99.0600\n",
      "Epoch 66/100, Training Loss: 0.0225, Training Accuracy: 99.2317, Test Loss: 0.0327, Test Accuracy: 98.9900\n",
      "Epoch 67/100, Training Loss: 0.0236, Training Accuracy: 99.2650, Test Loss: 0.0321, Test Accuracy: 99.0400\n",
      "Epoch 68/100, Training Loss: 0.0234, Training Accuracy: 99.2517, Test Loss: 0.0322, Test Accuracy: 99.1500\n",
      "Epoch 69/100, Training Loss: 0.0230, Training Accuracy: 99.2717, Test Loss: 0.0320, Test Accuracy: 98.9600\n",
      "Epoch 70/100, Training Loss: 0.0225, Training Accuracy: 99.3067, Test Loss: 0.0320, Test Accuracy: 99.0300\n",
      "Epoch 71/100, Training Loss: 0.0217, Training Accuracy: 99.2550, Test Loss: 0.0331, Test Accuracy: 99.0000\n",
      "Epoch 72/100, Training Loss: 0.0225, Training Accuracy: 99.2733, Test Loss: 0.0312, Test Accuracy: 99.0600\n",
      "Epoch 73/100, Training Loss: 0.0212, Training Accuracy: 99.2983, Test Loss: 0.0328, Test Accuracy: 99.0200\n",
      "Epoch 74/100, Training Loss: 0.0211, Training Accuracy: 99.3417, Test Loss: 0.0301, Test Accuracy: 99.1600\n",
      "Epoch 75/100, Training Loss: 0.0200, Training Accuracy: 99.3833, Test Loss: 0.0326, Test Accuracy: 99.0900\n",
      "Epoch 76/100, Training Loss: 0.0203, Training Accuracy: 99.3467, Test Loss: 0.0318, Test Accuracy: 99.0700\n"
     ]
    },
    {
     "name": "stdout",
     "output_type": "stream",
     "text": [
      "Epoch 77/100, Training Loss: 0.0212, Training Accuracy: 99.2950, Test Loss: 0.0323, Test Accuracy: 99.0100\n",
      "Epoch 78/100, Training Loss: 0.0196, Training Accuracy: 99.3583, Test Loss: 0.0323, Test Accuracy: 99.0700\n",
      "Epoch 79/100, Training Loss: 0.0187, Training Accuracy: 99.4000, Test Loss: 0.0322, Test Accuracy: 99.1300\n",
      "Epoch 80/100, Training Loss: 0.0188, Training Accuracy: 99.3850, Test Loss: 0.0330, Test Accuracy: 99.0800\n",
      "Epoch 81/100, Training Loss: 0.0192, Training Accuracy: 99.3833, Test Loss: 0.0295, Test Accuracy: 99.0900\n",
      "Epoch 82/100, Training Loss: 0.0184, Training Accuracy: 99.4200, Test Loss: 0.0327, Test Accuracy: 99.0600\n",
      "Epoch 83/100, Training Loss: 0.0188, Training Accuracy: 99.3733, Test Loss: 0.0333, Test Accuracy: 99.0400\n",
      "Epoch 84/100, Training Loss: 0.0186, Training Accuracy: 99.4050, Test Loss: 0.0303, Test Accuracy: 99.0700\n",
      "Epoch 85/100, Training Loss: 0.0194, Training Accuracy: 99.3833, Test Loss: 0.0305, Test Accuracy: 99.0600\n",
      "Epoch 86/100, Training Loss: 0.0176, Training Accuracy: 99.3900, Test Loss: 0.0321, Test Accuracy: 99.0200\n",
      "Epoch 87/100, Training Loss: 0.0181, Training Accuracy: 99.4150, Test Loss: 0.0277, Test Accuracy: 99.1800\n",
      "Epoch 88/100, Training Loss: 0.0187, Training Accuracy: 99.3700, Test Loss: 0.0322, Test Accuracy: 99.0600\n",
      "Epoch 89/100, Training Loss: 0.0175, Training Accuracy: 99.4467, Test Loss: 0.0295, Test Accuracy: 99.0100\n",
      "Epoch 90/100, Training Loss: 0.0168, Training Accuracy: 99.4483, Test Loss: 0.0324, Test Accuracy: 99.0600\n",
      "Epoch 91/100, Training Loss: 0.0173, Training Accuracy: 99.4300, Test Loss: 0.0295, Test Accuracy: 99.0600\n",
      "Epoch 92/100, Training Loss: 0.0159, Training Accuracy: 99.4550, Test Loss: 0.0342, Test Accuracy: 98.9800\n",
      "Epoch 93/100, Training Loss: 0.0163, Training Accuracy: 99.4633, Test Loss: 0.0308, Test Accuracy: 99.1100\n",
      "Epoch 94/100, Training Loss: 0.0176, Training Accuracy: 99.4133, Test Loss: 0.0296, Test Accuracy: 99.1200\n",
      "Epoch 95/100, Training Loss: 0.0167, Training Accuracy: 99.4850, Test Loss: 0.0319, Test Accuracy: 99.0300\n",
      "Epoch 96/100, Training Loss: 0.0170, Training Accuracy: 99.4650, Test Loss: 0.0320, Test Accuracy: 99.1900\n",
      "Epoch 97/100, Training Loss: 0.0178, Training Accuracy: 99.3850, Test Loss: 0.0306, Test Accuracy: 99.0600\n",
      "Epoch 98/100, Training Loss: 0.0169, Training Accuracy: 99.4383, Test Loss: 0.0309, Test Accuracy: 99.1200\n",
      "Epoch 99/100, Training Loss: 0.0169, Training Accuracy: 99.3850, Test Loss: 0.0333, Test Accuracy: 99.1100\n",
      "Epoch 100/100, Training Loss: 0.0150, Training Accuracy: 99.5067, Test Loss: 0.0303, Test Accuracy: 99.2100\n"
     ]
    }
   ],
   "source": [
    "num_epochs = 100\n",
    "\n",
    "train_loss = []\n",
    "test_loss = []\n",
    "train_accuracy = []\n",
    "test_accuracy = []\n",
    "\n",
    "for epoch in range(num_epochs):\n",
    "    \n",
    "    #Training\n",
    "    \n",
    "    iter_loss = 0.0\n",
    "    correct = 0\n",
    "    iterations = 0\n",
    "    \n",
    "    #Put network in training mode\n",
    "    net.train()\n",
    "    \n",
    "    for i, (items, classes) in enumerate(mnist_train_loader):\n",
    "        \n",
    "        #Convert torch tensor to Variable\n",
    "        items = Variable(items)\n",
    "        classes = Variable(classes)\n",
    "        \n",
    "        #If we have GPU, shift data to GPU\n",
    "        if cuda.is_available():\n",
    "            items = items.cuda()\n",
    "            classes = classes.cuda()\n",
    "        \n",
    "        \n",
    "        #clear off gradients from past operations\n",
    "        optimizer.zero_grad()\n",
    "        \n",
    "        #Do forward pass\n",
    "        outputs=net(items)\n",
    "        \n",
    "        #Calculate loss\n",
    "        loss = criterion(outputs, classes)\n",
    "        \n",
    "        #Accumulate Loss\n",
    "        iter_loss += loss.item()\n",
    "        \n",
    "        #back propagation to calculate gradients\n",
    "        loss.backward()\n",
    "        \n",
    "        #adjust optimizer\n",
    "        optimizer.step()\n",
    "        \n",
    "        #Record correct predictions\n",
    "        _, predicted = torch.max(outputs.data, 1)\n",
    "        correct += (predicted == classes.data).sum()\n",
    "        iterations += 1\n",
    "    \n",
    "    #Record Training Loss\n",
    "    train_loss.append(iter_loss/iterations)\n",
    "    \n",
    "    #Record Training Accuracy\n",
    "    train_accuracy.append((100.0 * correct / len(mnist_train_loader.dataset)))\n",
    "    \n",
    "    #Validation\n",
    "    \n",
    "    loss = 0.0\n",
    "    correct = 0\n",
    "    iterations = 0\n",
    "    \n",
    "    #Put network in eval mode\n",
    "    net.eval()\n",
    "    \n",
    "    for i, (items, classes) in enumerate(mnist_test_loader):\n",
    "        \n",
    "        #Convert torch tensor to Variable\n",
    "        items = Variable(items)\n",
    "        classes = Variable(classes)\n",
    "        \n",
    "        #If we have GPU, shift data to GPU\n",
    "        if cuda.is_available():\n",
    "            items = items.cuda()\n",
    "            classes = classes.cuda()\n",
    "        \n",
    "        #Forward Pass\n",
    "        outputs = net(items)\n",
    "        \n",
    "        #Calculate Loss\n",
    "        loss += criterion(outputs, classes).item()\n",
    "        \n",
    "        #Record Correct Predictions for Training Data\n",
    "        _, predicted = torch.max(outputs.data, 1)\n",
    "        correct += (predicted == classes.data).sum()\n",
    "        \n",
    "        iterations += 1\n",
    "    \n",
    "    #Record Test Loss\n",
    "    test_loss.append(loss / iterations)\n",
    "    \n",
    "    #Record Test Accuracy\n",
    "    test_accuracy.append((100.0 * correct / len(mnist_test_loader.dataset)))\n",
    "    \n",
    "    print('Epoch %d/%d, Training Loss: %.4f, Training Accuracy: %.4f, Test Loss: %.4f, Test Accuracy: %.4f'\n",
    "         % (epoch+1, num_epochs, train_loss[-1], train_accuracy[-1], test_loss[-1], test_accuracy[-1]))\n",
    "    "
   ]
  },
  {
   "cell_type": "markdown",
   "metadata": {},
   "source": [
    "## Visualizing Loss and Accuracy"
   ]
  },
  {
   "cell_type": "code",
   "execution_count": 11,
   "metadata": {},
   "outputs": [
    {
     "data": {
      "image/png": "[encoded data removed]",
      "text/plain": [
       "<Figure size 720x576 with 1 Axes>"
      ]
     },
     "metadata": {
      "needs_background": "light"
     },
     "output_type": "display_data"
    }
   ],
   "source": [
    "#Loss\n",
    "f = plt.figure(figsize=(10,8))\n",
    "plt.plot(train_loss, label = 'training loss')\n",
    "plt.plot(test_loss, label = 'testing loss')\n",
    "plt.legend()\n",
    "plt.show()"
   ]
  },
  {
   "cell_type": "code",
   "execution_count": 12,
   "metadata": {},
   "outputs": [
    {
     "data": {
      "image/png": "[encoded data removed]",
      "text/plain": [
       "<Figure size 720x576 with 1 Axes>"
      ]
     },
     "metadata": {
      "needs_background": "light"
     },
     "output_type": "display_data"
    }
   ],
   "source": [
    "#Accuracy\n",
    "f = plt.figure(figsize=(10,8))\n",
    "plt.plot(train_accuracy, label = 'training accuracy')\n",
    "plt.plot(test_accuracy, label = 'testing accuracy')\n",
    "plt.legend()\n",
    "plt.show()"
   ]
  },
  {
   "cell_type": "code",
   "execution_count": 13,
   "metadata": {},
   "outputs": [
    {
     "data": {
      "text/plain": [
       "tensor([[ -5.4313, -14.1653,  -9.9394,   8.3940, -13.7600,  33.8039,  10.5854,\n",
       "         -15.7593,   0.8024,   9.9187]], device='cuda:0')"
      ]
     },
     "execution_count": 13,
     "metadata": {},
     "output_type": "execute_result"
    }
   ],
   "source": [
    "#Standalone Inference\n",
    "image_index = 23\n",
    "img = mnist_test[image_index][0].resize_((1,1,28,28))\n",
    "img = Variable(img)\n",
    "label = mnist_test[image_index][1]\n",
    "\n",
    "net.eval()\n",
    "\n",
    "if cuda.is_available():\n",
    "    net = net.cuda()\n",
    "    img = img.cuda()\n",
    "else:\n",
    "    net = net.cpu()\n",
    "    img = img.cpu()\n",
    "    \n",
    "output = net(img)\n",
    "output.data"
   ]
  },
  {
   "cell_type": "code",
   "execution_count": 19,
   "metadata": {},
   "outputs": [
    {
     "name": "stdout",
     "output_type": "stream",
     "text": [
      "Prediction is:  tensor([5], device='cuda:0')\n"
     ]
    }
   ],
   "source": [
    "_, predicted = torch.max(output.data, 1)\n",
    "print('Prediction is: ', predicted)"
   ]
  },
  {
   "cell_type": "code",
   "execution_count": 15,
   "metadata": {},
   "outputs": [
    {
     "name": "stdout",
     "output_type": "stream",
     "text": [
      "Actual is:  5\n"
     ]
    }
   ],
   "source": [
    "print('Actual is: ', label)"
   ]
  },
  {
   "cell_type": "code",
   "execution_count": null,
   "metadata": {},
   "outputs": [],
   "source": []
  }
 ],
 "metadata": {
  "kernelspec": {
   "display_name": "Python 3",
   "language": "python",
   "name": "python3"
  },
  "language_info": {
   "codemirror_mode": {
    "name": "ipython",
    "version": 3
   },
   "file_extension": ".py",
   "mimetype": "text/x-python",
   "name": "python",
   "nbconvert_exporter": "python",
   "pygments_lexer": "ipython3",
   "version": "3.6.9"
  }
 },
 "nbformat": 4,
 "nbformat_minor": 2
}
